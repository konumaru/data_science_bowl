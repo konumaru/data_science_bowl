{
 "cells": [
  {
   "cell_type": "markdown",
   "metadata": {},
   "source": [
    "# Null Importanceによる特徴量選択\n",
    "\n",
    "- null importanceでは、ラベルデータをシャッフルする場合とシャッフルしない場合での特徴量重要度を取得する。\n",
    "- 上記の特徴量重要度を比較することで、以下のようなことが言える。\n",
    "    - ラベルデータがシャッフルされることで特徴量重要度が低くなれば重要である。\n",
    "    - ラベルデータがシャッフルされることで特徴量重要度が同じ、もしくは、高くなるこおｔがあれば、重要度出ない。\n",
    "    \n",
    " \n",
    "## 結果\n",
    "\n",
    "今回使ったデモデータでは、精度の向上は確認できなかった。"
   ]
  },
  {
   "cell_type": "code",
   "execution_count": 12,
   "metadata": {},
   "outputs": [],
   "source": [
    "import numpy as np\n",
    "import pandas as pd\n",
    "\n",
    "from sklearn import datasets\n",
    "from sklearn.ensemble import RandomForestClassifier\n",
    "\n",
    "from sklearn.model_selection import KFold, StratifiedKFold\n",
    "from sklearn.model_selection import cross_val_score"
   ]
  },
  {
   "cell_type": "markdown",
   "metadata": {},
   "source": [
    "## 全データを使った場合の予測精度\n",
    "- 5-fold CV\n",
    "- Random Forest"
   ]
  },
  {
   "cell_type": "code",
   "execution_count": 113,
   "metadata": {},
   "outputs": [
    {
     "name": "stdout",
     "output_type": "stream",
     "text": [
      "Cross-validation scores: \n",
      "\tMEAN: 0.9613879832324173\n",
      "\tSTD: 0.01803688197632531\n"
     ]
    }
   ],
   "source": [
    "cancer = datasets.load_breast_cancer()\n",
    "\n",
    "df = pd.DataFrame(cancer.data, columns=cancer.feature_names)\n",
    "df['target'] = cancer.target\n",
    "\n",
    "X = df.drop('target', axis=1)\n",
    "y = df['target']\n",
    "\n",
    "cv = StratifiedKFold(n_splits=5, shuffle=True)\n",
    "model = RandomForestClassifier()\n",
    "cv_scores = cross_val_score(model, X, y, cv=cv)\n",
    "\n",
    "print(f'Cross-validation scores: ')\n",
    "print(f'\\tMEAN: {np.mean(cv_scores)}')\n",
    "print(f'\\tSTD: {np.std(cv_scores)}')"
   ]
  },
  {
   "cell_type": "markdown",
   "metadata": {},
   "source": [
    "## Null Importanceを用いて特徴量を減らしたあとの精度\n",
    "- 5-fold CV\n",
    "- Random Forest"
   ]
  },
  {
   "cell_type": "code",
   "execution_count": 93,
   "metadata": {},
   "outputs": [],
   "source": [
    "import numpy as np\n",
    "import pandas as pd\n",
    "import lightgbm as lgb\n",
    "from sklearn.ensemble import RandomForestClassifier\n",
    "\n",
    "import matplotlib.pyplot as plt\n",
    "from tqdm.notebook import tqdm\n",
    "\n",
    "\n",
    "class Null_Importance():\n",
    "    def __init__(self, df, features, target, n_run, seed=42):\n",
    "        self.seed = seed\n",
    "        self.df = df\n",
    "        self.features = features\n",
    "        self.target = target\n",
    "        self.importance_df = self.fit(n_run)\n",
    "        \n",
    "    \n",
    "    def fit(self, n_run):\n",
    "        importance_df = pd.DataFrame({'feature': features})\n",
    "        X = self.df[self.features].values\n",
    "        y = self.df[self.target].values\n",
    "        \n",
    "        train_data = self.convert_dataset(X, y)\n",
    "        model = self.train_model(train_data)\n",
    "        importance_df['actual_importance'] = self.get_feature_importace(model)\n",
    "        \n",
    "        for i in tqdm(range(n_run)):\n",
    "            shuffled_y = np.random.permutation(y)\n",
    "            train_data = self.convert_dataset(X, shuffled_y)\n",
    "            model = self.train_model(train_data)\n",
    "            importance_df[f'{i+1}_run_importance'] = self.get_feature_importace(model)\n",
    "        \n",
    "        return importance_df\n",
    "    \n",
    "    def train_model(self, train_data):\n",
    "        params = {\n",
    "            'objective': 'binary',\n",
    "            'metric': 'auc',\n",
    "            'boosting': 'gbdt',\n",
    "            'n_estimators': 100,\n",
    "            'learning_rate': 0.1,\n",
    "            'num_leaves': 32,\n",
    "            'max_depth': 5,\n",
    "            'min_data_in_leaf': 20,\n",
    "            'bagging_fraction': 1.0,\n",
    "            'early_stopping_round': 10,\n",
    "            'seed': self.seed\n",
    "        }\n",
    "        model = lgb.train(params, train_data, valid_sets=train_data, verbose_eval=0)\n",
    "        return model\n",
    "    \n",
    "    \n",
    "    def get_feature_importace(self, model):\n",
    "        return model.feature_importance()\n",
    "    \n",
    "    \n",
    "    def convert_dataset(self, X, y):\n",
    "        return lgb.Dataset(X, y)\n",
    "    \n",
    "    \n",
    "    def get_unimportance_features(self, threshold = 80):\n",
    "        unimport_features = []\n",
    "        for feat in self.features:\n",
    "            feat_df = self.importance_df.query('feature == @feat')\n",
    "            acutual_val = feat_df['actual_importance'].values\n",
    "            null_vals = feat_df.iloc[:, 2:].values.ravel()\n",
    "            typical_null_val = np.percentile(null_vals, threshold)\n",
    "            if acutual_val <= typical_null_val:\n",
    "                unimport_features.append(feat)\n",
    "        return unimport_features\n",
    "    \n",
    "    \n",
    "    def display_importance(self, figsize=(7, 10)):\n",
    "        imp_df = self.importance_df[['feature', 'actual_importance']].sort_values(by='actual_importance')\n",
    "        plt.figure(figsize=figsize)\n",
    "        plt.barh(imp_df['feature'], imp_df['actual_importance'])\n",
    "        plt.xlabel(\"Feature Importance\")\n",
    "        plt.show()\n",
    "    \n",
    "    \n",
    "    def display_distributions(self, feature):\n",
    "        feat_df = self.importance_df.query('feature == @feature')\n",
    "        acutual_val = feat_df['actual_importance'].values\n",
    "        null_vals = feat_df.iloc[:, 2:].values.ravel()\n",
    "\n",
    "        plt.figure()\n",
    "        ax = plt.hist(null_vals, label='Null Importance', color='tab:blue')\n",
    "        plt.title(f\"Importance of {feature}\")\n",
    "        plt.xlabel(f\"Null Importance Distribution for {feature}\")\n",
    "        plt.vlines(x=acutual_val, ymin=0, ymax=np.max(ax[0]), color='red', linewidth=10, label='Real Importance')\n",
    "        plt.legend()\n",
    "        plt.show()"
   ]
  },
  {
   "cell_type": "code",
   "execution_count": 100,
   "metadata": {},
   "outputs": [
    {
     "name": "stderr",
     "output_type": "stream",
     "text": [
      "/Users/rui/.local/share/virtualenvs/data_science_bowl-_c7OiX6v/lib/python3.8/site-packages/lightgbm/engine.py:148: UserWarning: Found `n_estimators` in params. Will use it instead of argument\n",
      "  warnings.warn(\"Found `{}` in params. Will use it instead of argument\".format(alias))\n",
      "/Users/rui/.local/share/virtualenvs/data_science_bowl-_c7OiX6v/lib/python3.8/site-packages/lightgbm/engine.py:153: UserWarning: Found `early_stopping_round` in params. Will use it instead of argument\n",
      "  warnings.warn(\"Found `{}` in params. Will use it instead of argument\".format(alias))\n"
     ]
    },
    {
     "data": {
      "application/vnd.jupyter.widget-view+json": {
       "model_id": "fe7fbb29c1ad4ae6992a8b401e787d7b",
       "version_major": 2,
       "version_minor": 0
      },
      "text/plain": [
       "HBox(children=(FloatProgress(value=0.0), HTML(value='')))"
      ]
     },
     "metadata": {},
     "output_type": "display_data"
    },
    {
     "name": "stdout",
     "output_type": "stream",
     "text": [
      "\n"
     ]
    }
   ],
   "source": [
    "df = pd.DataFrame(cancer.data, columns=cancer.feature_names)\n",
    "df['target'] = cancer.target\n",
    "\n",
    "features = cancer.feature_names\n",
    "target = 'target'\n",
    "n_run = 100\n",
    "\n",
    "null_imp = Null_Importance(df, features, target, n_run, seed=9)"
   ]
  },
  {
   "cell_type": "code",
   "execution_count": 101,
   "metadata": {},
   "outputs": [
    {
     "name": "stdout",
     "output_type": "stream",
     "text": [
      "(30, 102)\n"
     ]
    },
    {
     "data": {
      "text/html": [
       "<div>\n",
       "<style scoped>\n",
       "    .dataframe tbody tr th:only-of-type {\n",
       "        vertical-align: middle;\n",
       "    }\n",
       "\n",
       "    .dataframe tbody tr th {\n",
       "        vertical-align: top;\n",
       "    }\n",
       "\n",
       "    .dataframe thead th {\n",
       "        text-align: right;\n",
       "    }\n",
       "</style>\n",
       "<table border=\"1\" class=\"dataframe\">\n",
       "  <thead>\n",
       "    <tr style=\"text-align: right;\">\n",
       "      <th></th>\n",
       "      <th>feature</th>\n",
       "      <th>actual_importance</th>\n",
       "      <th>1_run_importance</th>\n",
       "      <th>2_run_importance</th>\n",
       "      <th>3_run_importance</th>\n",
       "      <th>4_run_importance</th>\n",
       "      <th>5_run_importance</th>\n",
       "      <th>6_run_importance</th>\n",
       "      <th>7_run_importance</th>\n",
       "      <th>8_run_importance</th>\n",
       "      <th>...</th>\n",
       "      <th>91_run_importance</th>\n",
       "      <th>92_run_importance</th>\n",
       "      <th>93_run_importance</th>\n",
       "      <th>94_run_importance</th>\n",
       "      <th>95_run_importance</th>\n",
       "      <th>96_run_importance</th>\n",
       "      <th>97_run_importance</th>\n",
       "      <th>98_run_importance</th>\n",
       "      <th>99_run_importance</th>\n",
       "      <th>100_run_importance</th>\n",
       "    </tr>\n",
       "  </thead>\n",
       "  <tbody>\n",
       "    <tr>\n",
       "      <th>0</th>\n",
       "      <td>mean radius</td>\n",
       "      <td>7</td>\n",
       "      <td>8</td>\n",
       "      <td>12</td>\n",
       "      <td>4</td>\n",
       "      <td>13</td>\n",
       "      <td>14</td>\n",
       "      <td>14</td>\n",
       "      <td>17</td>\n",
       "      <td>14</td>\n",
       "      <td>...</td>\n",
       "      <td>4</td>\n",
       "      <td>15</td>\n",
       "      <td>8</td>\n",
       "      <td>16</td>\n",
       "      <td>7</td>\n",
       "      <td>7</td>\n",
       "      <td>9</td>\n",
       "      <td>17</td>\n",
       "      <td>6</td>\n",
       "      <td>11</td>\n",
       "    </tr>\n",
       "    <tr>\n",
       "      <th>1</th>\n",
       "      <td>mean texture</td>\n",
       "      <td>28</td>\n",
       "      <td>31</td>\n",
       "      <td>30</td>\n",
       "      <td>75</td>\n",
       "      <td>46</td>\n",
       "      <td>46</td>\n",
       "      <td>19</td>\n",
       "      <td>26</td>\n",
       "      <td>50</td>\n",
       "      <td>...</td>\n",
       "      <td>33</td>\n",
       "      <td>61</td>\n",
       "      <td>42</td>\n",
       "      <td>22</td>\n",
       "      <td>50</td>\n",
       "      <td>15</td>\n",
       "      <td>33</td>\n",
       "      <td>28</td>\n",
       "      <td>35</td>\n",
       "      <td>46</td>\n",
       "    </tr>\n",
       "    <tr>\n",
       "      <th>2</th>\n",
       "      <td>mean perimeter</td>\n",
       "      <td>9</td>\n",
       "      <td>13</td>\n",
       "      <td>3</td>\n",
       "      <td>16</td>\n",
       "      <td>12</td>\n",
       "      <td>17</td>\n",
       "      <td>6</td>\n",
       "      <td>3</td>\n",
       "      <td>15</td>\n",
       "      <td>...</td>\n",
       "      <td>14</td>\n",
       "      <td>10</td>\n",
       "      <td>13</td>\n",
       "      <td>16</td>\n",
       "      <td>6</td>\n",
       "      <td>12</td>\n",
       "      <td>9</td>\n",
       "      <td>12</td>\n",
       "      <td>8</td>\n",
       "      <td>4</td>\n",
       "    </tr>\n",
       "    <tr>\n",
       "      <th>3</th>\n",
       "      <td>mean area</td>\n",
       "      <td>1</td>\n",
       "      <td>8</td>\n",
       "      <td>8</td>\n",
       "      <td>7</td>\n",
       "      <td>7</td>\n",
       "      <td>4</td>\n",
       "      <td>2</td>\n",
       "      <td>15</td>\n",
       "      <td>5</td>\n",
       "      <td>...</td>\n",
       "      <td>9</td>\n",
       "      <td>8</td>\n",
       "      <td>6</td>\n",
       "      <td>12</td>\n",
       "      <td>15</td>\n",
       "      <td>11</td>\n",
       "      <td>8</td>\n",
       "      <td>19</td>\n",
       "      <td>4</td>\n",
       "      <td>13</td>\n",
       "    </tr>\n",
       "    <tr>\n",
       "      <th>4</th>\n",
       "      <td>mean smoothness</td>\n",
       "      <td>10</td>\n",
       "      <td>65</td>\n",
       "      <td>46</td>\n",
       "      <td>40</td>\n",
       "      <td>27</td>\n",
       "      <td>24</td>\n",
       "      <td>41</td>\n",
       "      <td>36</td>\n",
       "      <td>24</td>\n",
       "      <td>...</td>\n",
       "      <td>19</td>\n",
       "      <td>40</td>\n",
       "      <td>46</td>\n",
       "      <td>35</td>\n",
       "      <td>26</td>\n",
       "      <td>31</td>\n",
       "      <td>35</td>\n",
       "      <td>51</td>\n",
       "      <td>41</td>\n",
       "      <td>51</td>\n",
       "    </tr>\n",
       "  </tbody>\n",
       "</table>\n",
       "<p>5 rows × 102 columns</p>\n",
       "</div>"
      ],
      "text/plain": [
       "           feature  actual_importance  1_run_importance  2_run_importance  \\\n",
       "0      mean radius                  7                 8                12   \n",
       "1     mean texture                 28                31                30   \n",
       "2   mean perimeter                  9                13                 3   \n",
       "3        mean area                  1                 8                 8   \n",
       "4  mean smoothness                 10                65                46   \n",
       "\n",
       "   3_run_importance  4_run_importance  5_run_importance  6_run_importance  \\\n",
       "0                 4                13                14                14   \n",
       "1                75                46                46                19   \n",
       "2                16                12                17                 6   \n",
       "3                 7                 7                 4                 2   \n",
       "4                40                27                24                41   \n",
       "\n",
       "   7_run_importance  8_run_importance  ...  91_run_importance  \\\n",
       "0                17                14  ...                  4   \n",
       "1                26                50  ...                 33   \n",
       "2                 3                15  ...                 14   \n",
       "3                15                 5  ...                  9   \n",
       "4                36                24  ...                 19   \n",
       "\n",
       "   92_run_importance  93_run_importance  94_run_importance  95_run_importance  \\\n",
       "0                 15                  8                 16                  7   \n",
       "1                 61                 42                 22                 50   \n",
       "2                 10                 13                 16                  6   \n",
       "3                  8                  6                 12                 15   \n",
       "4                 40                 46                 35                 26   \n",
       "\n",
       "   96_run_importance  97_run_importance  98_run_importance  99_run_importance  \\\n",
       "0                  7                  9                 17                  6   \n",
       "1                 15                 33                 28                 35   \n",
       "2                 12                  9                 12                  8   \n",
       "3                 11                  8                 19                  4   \n",
       "4                 31                 35                 51                 41   \n",
       "\n",
       "   100_run_importance  \n",
       "0                  11  \n",
       "1                  46  \n",
       "2                   4  \n",
       "3                  13  \n",
       "4                  51  \n",
       "\n",
       "[5 rows x 102 columns]"
      ]
     },
     "execution_count": 101,
     "metadata": {},
     "output_type": "execute_result"
    }
   ],
   "source": [
    "# 取得したDataFrame\n",
    "print(null_imp.importance_df.shape)\n",
    "null_imp.importance_df.head()"
   ]
  },
  {
   "cell_type": "code",
   "execution_count": 102,
   "metadata": {},
   "outputs": [
    {
     "data": {
      "image/png": "[encoded data removed]",
      "text/plain": [
       "<Figure size 504x720 with 1 Axes>"
      ]
     },
     "metadata": {
      "needs_background": "light"
     },
     "output_type": "display_data"
    }
   ],
   "source": [
    "# 特徴量重要度の可視化\n",
    "null_imp.display_importance(figsize=(7, 10))"
   ]
  },
  {
   "cell_type": "code",
   "execution_count": 103,
   "metadata": {},
   "outputs": [
    {
     "data": {
      "image/png": "[encoded data removed]",
      "text/plain": [
       "<Figure size 432x288 with 1 Axes>"
      ]
     },
     "metadata": {
      "needs_background": "light"
     },
     "output_type": "display_data"
    },
    {
     "data": {
      "image/png": "[encoded data removed]",
      "text/plain": [
       "<Figure size 432x288 with 1 Axes>"
      ]
     },
     "metadata": {
      "needs_background": "light"
     },
     "output_type": "display_data"
    },
    {
     "data": {
      "image/png": "[encoded data removed]",
      "text/plain": [
       "<Figure size 432x288 with 1 Axes>"
      ]
     },
     "metadata": {
      "needs_background": "light"
     },
     "output_type": "display_data"
    },
    {
     "data": {
      "image/png": "[encoded data removed]",
      "text/plain": [
       "<Figure size 432x288 with 1 Axes>"
      ]
     },
     "metadata": {
      "needs_background": "light"
     },
     "output_type": "display_data"
    },
    {
     "data": {
      "image/png": "[encoded data removed]",
      "text/plain": [
       "<Figure size 432x288 with 1 Axes>"
      ]
     },
     "metadata": {
      "needs_background": "light"
     },
     "output_type": "display_data"
    }
   ],
   "source": [
    "# null importanceの結果を特定のfeatureごとに可視化\n",
    "# feature = 'mean radius'\n",
    "for f in features[:5]:\n",
    "    null_imp.display_distributions(f)"
   ]
  },
  {
   "cell_type": "code",
   "execution_count": 114,
   "metadata": {},
   "outputs": [
    {
     "name": "stdout",
     "output_type": "stream",
     "text": [
      "num of drop columns is 26\n"
     ]
    },
    {
     "data": {
      "text/plain": [
       "['mean radius',\n",
       " 'mean texture',\n",
       " 'mean perimeter',\n",
       " 'mean area',\n",
       " 'mean smoothness',\n",
       " 'mean compactness',\n",
       " 'mean concavity',\n",
       " 'mean concave points',\n",
       " 'mean symmetry',\n",
       " 'mean fractal dimension',\n",
       " 'radius error',\n",
       " 'texture error',\n",
       " 'perimeter error',\n",
       " 'area error',\n",
       " 'smoothness error',\n",
       " 'compactness error',\n",
       " 'concavity error',\n",
       " 'concave points error',\n",
       " 'symmetry error',\n",
       " 'fractal dimension error',\n",
       " 'worst radius',\n",
       " 'worst smoothness',\n",
       " 'worst compactness',\n",
       " 'worst concavity',\n",
       " 'worst symmetry',\n",
       " 'worst fractal dimension']"
      ]
     },
     "execution_count": 114,
     "metadata": {},
     "output_type": "execute_result"
    }
   ],
   "source": [
    "drop_cols = null_imp.get_unimportance_features(threshold=50)\n",
    "print(f'num of drop columns is {len(drop_cols)}')\n",
    "drop_cols"
   ]
  },
  {
   "cell_type": "code",
   "execution_count": 115,
   "metadata": {},
   "outputs": [
    {
     "name": "stdout",
     "output_type": "stream",
     "text": [
      "Cross-validation scores: 0.9595870206489675\n",
      "\tMEAN: 0.9595870206489675\n",
      "\tSTD: 0.011871973088911152\n"
     ]
    }
   ],
   "source": [
    "X = df.drop(drop_cols+['target'], axis=1)\n",
    "y = df['target']\n",
    "\n",
    "cv = StratifiedKFold(n_splits=5, shuffle=True)\n",
    "model = RandomForestClassifier()\n",
    "cv_scores = cross_val_score(model, X, y, cv=cv)\n",
    "\n",
    "print(f'Cross-validation scores: {np.mean(cv_scores)}')\n",
    "print(f'\\tMEAN: {np.mean(cv_scores)}')\n",
    "print(f'\\tSTD: {np.std(cv_scores)}')"
   ]
  },
  {
   "cell_type": "code",
   "execution_count": null,
   "metadata": {},
   "outputs": [],
   "source": []
  },
  {
   "cell_type": "code",
   "execution_count": null,
   "metadata": {},
   "outputs": [],
   "source": []
  }
 ],
 "metadata": {
  "kernelspec": {
   "display_name": "Python 3",
   "language": "python",
   "name": "python3"
  },
  "language_info": {
   "codemirror_mode": {
    "name": "ipython",
    "version": 3
   },
   "file_extension": ".py",
   "mimetype": "text/x-python",
   "name": "python",
   "nbconvert_exporter": "python",
   "pygments_lexer": "ipython3",
   "version": "3.8.0"
  }
 },
 "nbformat": 4,
 "nbformat_minor": 4
}
