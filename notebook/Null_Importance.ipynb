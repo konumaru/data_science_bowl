{
 "cells": [
  {
   "cell_type": "markdown",
   "metadata": {},
   "source": [
    "# Null Importanceによる特徴量選択\n",
    "\n",
    "- null importanceでは、ラベルデータをシャッフルする場合とシャッフルしない場合での特徴量重要度を取得する。\n",
    "- 上記の特徴量重要度を比較することで、以下のようなことが言える。\n",
    "    - ラベルデータがシャッフルされることで特徴量重要度が低くなれば重要である。\n",
    "    - ラベルデータがシャッフルされることで特徴量重要度が同じ、もしくは、高くなるこおｔがあれば、重要度出ない。\n",
    "    \n",
    " \n",
    "## 結果\n",
    "\n",
    "今回使ったデモデータでは、精度の向上は確認できなかった。"
   ]
  },
  {
   "cell_type": "code",
   "execution_count": 290,
   "metadata": {},
   "outputs": [],
   "source": [
    "from sklearn.ensemble import RandomForestClassifier\n",
    "\n",
    "from sklearn.model_selection import KFold, StratifiedKFold\n",
    "from sklearn.model_selection import cross_val_score"
   ]
  },
  {
   "cell_type": "markdown",
   "metadata": {},
   "source": [
    "## 全データを使った場合の予測精度\n",
    "- 5-fold CV\n",
    "- Random Forest"
   ]
  },
  {
   "cell_type": "code",
   "execution_count": 291,
   "metadata": {},
   "outputs": [],
   "source": [
    "df = pd.DataFrame(cancer.data, columns=cancer.feature_names)\n",
    "df['target'] = cancer.target"
   ]
  },
  {
   "cell_type": "code",
   "execution_count": 292,
   "metadata": {},
   "outputs": [
    {
     "name": "stdout",
     "output_type": "stream",
     "text": [
      "(569, 31)\n"
     ]
    },
    {
     "data": {
      "text/html": [
       "<div>\n",
       "<style scoped>\n",
       "    .dataframe tbody tr th:only-of-type {\n",
       "        vertical-align: middle;\n",
       "    }\n",
       "\n",
       "    .dataframe tbody tr th {\n",
       "        vertical-align: top;\n",
       "    }\n",
       "\n",
       "    .dataframe thead th {\n",
       "        text-align: right;\n",
       "    }\n",
       "</style>\n",
       "<table border=\"1\" class=\"dataframe\">\n",
       "  <thead>\n",
       "    <tr style=\"text-align: right;\">\n",
       "      <th></th>\n",
       "      <th>mean radius</th>\n",
       "      <th>mean texture</th>\n",
       "      <th>mean perimeter</th>\n",
       "      <th>mean area</th>\n",
       "      <th>mean smoothness</th>\n",
       "      <th>mean compactness</th>\n",
       "      <th>mean concavity</th>\n",
       "      <th>mean concave points</th>\n",
       "      <th>mean symmetry</th>\n",
       "      <th>mean fractal dimension</th>\n",
       "      <th>...</th>\n",
       "      <th>worst texture</th>\n",
       "      <th>worst perimeter</th>\n",
       "      <th>worst area</th>\n",
       "      <th>worst smoothness</th>\n",
       "      <th>worst compactness</th>\n",
       "      <th>worst concavity</th>\n",
       "      <th>worst concave points</th>\n",
       "      <th>worst symmetry</th>\n",
       "      <th>worst fractal dimension</th>\n",
       "      <th>target</th>\n",
       "    </tr>\n",
       "  </thead>\n",
       "  <tbody>\n",
       "    <tr>\n",
       "      <th>0</th>\n",
       "      <td>17.99</td>\n",
       "      <td>10.38</td>\n",
       "      <td>122.80</td>\n",
       "      <td>1001.0</td>\n",
       "      <td>0.11840</td>\n",
       "      <td>0.27760</td>\n",
       "      <td>0.3001</td>\n",
       "      <td>0.14710</td>\n",
       "      <td>0.2419</td>\n",
       "      <td>0.07871</td>\n",
       "      <td>...</td>\n",
       "      <td>17.33</td>\n",
       "      <td>184.60</td>\n",
       "      <td>2019.0</td>\n",
       "      <td>0.1622</td>\n",
       "      <td>0.6656</td>\n",
       "      <td>0.7119</td>\n",
       "      <td>0.2654</td>\n",
       "      <td>0.4601</td>\n",
       "      <td>0.11890</td>\n",
       "      <td>0</td>\n",
       "    </tr>\n",
       "    <tr>\n",
       "      <th>1</th>\n",
       "      <td>20.57</td>\n",
       "      <td>17.77</td>\n",
       "      <td>132.90</td>\n",
       "      <td>1326.0</td>\n",
       "      <td>0.08474</td>\n",
       "      <td>0.07864</td>\n",
       "      <td>0.0869</td>\n",
       "      <td>0.07017</td>\n",
       "      <td>0.1812</td>\n",
       "      <td>0.05667</td>\n",
       "      <td>...</td>\n",
       "      <td>23.41</td>\n",
       "      <td>158.80</td>\n",
       "      <td>1956.0</td>\n",
       "      <td>0.1238</td>\n",
       "      <td>0.1866</td>\n",
       "      <td>0.2416</td>\n",
       "      <td>0.1860</td>\n",
       "      <td>0.2750</td>\n",
       "      <td>0.08902</td>\n",
       "      <td>0</td>\n",
       "    </tr>\n",
       "    <tr>\n",
       "      <th>2</th>\n",
       "      <td>19.69</td>\n",
       "      <td>21.25</td>\n",
       "      <td>130.00</td>\n",
       "      <td>1203.0</td>\n",
       "      <td>0.10960</td>\n",
       "      <td>0.15990</td>\n",
       "      <td>0.1974</td>\n",
       "      <td>0.12790</td>\n",
       "      <td>0.2069</td>\n",
       "      <td>0.05999</td>\n",
       "      <td>...</td>\n",
       "      <td>25.53</td>\n",
       "      <td>152.50</td>\n",
       "      <td>1709.0</td>\n",
       "      <td>0.1444</td>\n",
       "      <td>0.4245</td>\n",
       "      <td>0.4504</td>\n",
       "      <td>0.2430</td>\n",
       "      <td>0.3613</td>\n",
       "      <td>0.08758</td>\n",
       "      <td>0</td>\n",
       "    </tr>\n",
       "    <tr>\n",
       "      <th>3</th>\n",
       "      <td>11.42</td>\n",
       "      <td>20.38</td>\n",
       "      <td>77.58</td>\n",
       "      <td>386.1</td>\n",
       "      <td>0.14250</td>\n",
       "      <td>0.28390</td>\n",
       "      <td>0.2414</td>\n",
       "      <td>0.10520</td>\n",
       "      <td>0.2597</td>\n",
       "      <td>0.09744</td>\n",
       "      <td>...</td>\n",
       "      <td>26.50</td>\n",
       "      <td>98.87</td>\n",
       "      <td>567.7</td>\n",
       "      <td>0.2098</td>\n",
       "      <td>0.8663</td>\n",
       "      <td>0.6869</td>\n",
       "      <td>0.2575</td>\n",
       "      <td>0.6638</td>\n",
       "      <td>0.17300</td>\n",
       "      <td>0</td>\n",
       "    </tr>\n",
       "    <tr>\n",
       "      <th>4</th>\n",
       "      <td>20.29</td>\n",
       "      <td>14.34</td>\n",
       "      <td>135.10</td>\n",
       "      <td>1297.0</td>\n",
       "      <td>0.10030</td>\n",
       "      <td>0.13280</td>\n",
       "      <td>0.1980</td>\n",
       "      <td>0.10430</td>\n",
       "      <td>0.1809</td>\n",
       "      <td>0.05883</td>\n",
       "      <td>...</td>\n",
       "      <td>16.67</td>\n",
       "      <td>152.20</td>\n",
       "      <td>1575.0</td>\n",
       "      <td>0.1374</td>\n",
       "      <td>0.2050</td>\n",
       "      <td>0.4000</td>\n",
       "      <td>0.1625</td>\n",
       "      <td>0.2364</td>\n",
       "      <td>0.07678</td>\n",
       "      <td>0</td>\n",
       "    </tr>\n",
       "  </tbody>\n",
       "</table>\n",
       "<p>5 rows × 31 columns</p>\n",
       "</div>"
      ],
      "text/plain": [
       "   mean radius  mean texture  mean perimeter  mean area  mean smoothness  \\\n",
       "0        17.99         10.38          122.80     1001.0          0.11840   \n",
       "1        20.57         17.77          132.90     1326.0          0.08474   \n",
       "2        19.69         21.25          130.00     1203.0          0.10960   \n",
       "3        11.42         20.38           77.58      386.1          0.14250   \n",
       "4        20.29         14.34          135.10     1297.0          0.10030   \n",
       "\n",
       "   mean compactness  mean concavity  mean concave points  mean symmetry  \\\n",
       "0           0.27760          0.3001              0.14710         0.2419   \n",
       "1           0.07864          0.0869              0.07017         0.1812   \n",
       "2           0.15990          0.1974              0.12790         0.2069   \n",
       "3           0.28390          0.2414              0.10520         0.2597   \n",
       "4           0.13280          0.1980              0.10430         0.1809   \n",
       "\n",
       "   mean fractal dimension  ...  worst texture  worst perimeter  worst area  \\\n",
       "0                 0.07871  ...          17.33           184.60      2019.0   \n",
       "1                 0.05667  ...          23.41           158.80      1956.0   \n",
       "2                 0.05999  ...          25.53           152.50      1709.0   \n",
       "3                 0.09744  ...          26.50            98.87       567.7   \n",
       "4                 0.05883  ...          16.67           152.20      1575.0   \n",
       "\n",
       "   worst smoothness  worst compactness  worst concavity  worst concave points  \\\n",
       "0            0.1622             0.6656           0.7119                0.2654   \n",
       "1            0.1238             0.1866           0.2416                0.1860   \n",
       "2            0.1444             0.4245           0.4504                0.2430   \n",
       "3            0.2098             0.8663           0.6869                0.2575   \n",
       "4            0.1374             0.2050           0.4000                0.1625   \n",
       "\n",
       "   worst symmetry  worst fractal dimension  target  \n",
       "0          0.4601                  0.11890       0  \n",
       "1          0.2750                  0.08902       0  \n",
       "2          0.3613                  0.08758       0  \n",
       "3          0.6638                  0.17300       0  \n",
       "4          0.2364                  0.07678       0  \n",
       "\n",
       "[5 rows x 31 columns]"
      ]
     },
     "execution_count": 292,
     "metadata": {},
     "output_type": "execute_result"
    }
   ],
   "source": [
    "print(df.shape)\n",
    "df.head()"
   ]
  },
  {
   "cell_type": "code",
   "execution_count": 293,
   "metadata": {},
   "outputs": [
    {
     "name": "stdout",
     "output_type": "stream",
     "text": [
      "Cross-validation scores: 0.9648812296227295\n"
     ]
    }
   ],
   "source": [
    "X = df.drop('target', axis=1)\n",
    "y = df['target']\n",
    "\n",
    "cv = StratifiedKFold(n_splits=5, shuffle=True)\n",
    "model = RandomForestClassifier()\n",
    "cv_scores = cross_val_score(model, X, y, cv=cv)\n",
    "\n",
    "print(f'Cross-validation scores: {np.mean(cv_scores)}')"
   ]
  },
  {
   "cell_type": "markdown",
   "metadata": {},
   "source": [
    "## Null Importanceを用いて特徴量を減らしたあとの精度\n",
    "- 5-fold CV\n",
    "- Random Forest"
   ]
  },
  {
   "cell_type": "code",
   "execution_count": 294,
   "metadata": {},
   "outputs": [],
   "source": [
    "import numpy as np\n",
    "import pandas as pd\n",
    "import lightgbm as lgb\n",
    "from sklearn.ensemble import RandomForestClassifier\n",
    "\n",
    "import matplotlib.pyplot as plt\n",
    "from tqdm.notebook import tqdm\n",
    "\n",
    "\n",
    "class Null_Importance():\n",
    "    def __init__(self, df, features, target, n_run, seed=42):\n",
    "        self.df = df\n",
    "        self.features = features\n",
    "        self.target = target\n",
    "        self.importance_df = self.fit(n_run)\n",
    "    \n",
    "    def fit(self, n_run):\n",
    "        importance_df = pd.DataFrame({'feature': features})\n",
    "        X = self.df[self.features].values\n",
    "        y = self.df[self.target].values\n",
    "        \n",
    "        conv_X, conv_y = self.convert_dataset(X, y)\n",
    "        model = self.train_model(conv_X, conv_y)\n",
    "        importance_df['actual_importance'] = self.get_feature_importace(model)\n",
    "        \n",
    "        for i in tqdm(range(n_run)):\n",
    "            shuffled_y = np.random.permutation(y)\n",
    "            conv_X, conv_y = self.convert_dataset(X, shuffled_y)\n",
    "            model = self.train_model(conv_X, conv_y)\n",
    "            importance_df[f'{i+1}_run_importance'] = self.get_feature_importace(model)\n",
    "        \n",
    "        return importance_df\n",
    "    \n",
    "    def train_model(self, X, y):\n",
    "        model = RandomForestClassifier(random_state=42)\n",
    "        model.fit(X, y)\n",
    "        return model\n",
    "    \n",
    "    \n",
    "    def get_feature_importace(self, model):\n",
    "        return model.feature_importances_\n",
    "    \n",
    "    \n",
    "    def convert_dataset(self, X, y):\n",
    "        return X, y\n",
    "    \n",
    "    \n",
    "    def get_unimportance_features(self, threshold = 80):\n",
    "        unimport_features = []\n",
    "        for feat in self.features:\n",
    "            feat_df = self.importance_df.query('feature == @feat')\n",
    "            acutual_val = feat_df['actual_importance'].values\n",
    "            null_vals = feat_df.iloc[:, 2:].values.ravel()\n",
    "            typical_null_val = np.percentile(null_vals, threshold)\n",
    "            if acutual_val <= typical_null_val:\n",
    "                unimport_features.append(feat)\n",
    "        return unimport_features\n",
    "    \n",
    "    \n",
    "    def display_importance(self, figsize=(7, 10)):\n",
    "        imp_df = self.importance_df[['feature', 'actual_importance']].sort_values(by='actual_importance')\n",
    "        plt.figure(figsize=figsize)\n",
    "        plt.barh(imp_df['feature'], imp_df['actual_importance'])\n",
    "        plt.xlabel(\"Feature Importance\")\n",
    "        plt.show()\n",
    "    \n",
    "    \n",
    "    def display_distributions(self, feature):\n",
    "        feat_df = self.importance_df.query('feature == @feature')\n",
    "        acutual_val = feat_df['actual_importance'].values\n",
    "        null_vals = feat_df.iloc[:, 2:].values.ravel()\n",
    "\n",
    "        plt.figure()\n",
    "        ax = plt.hist(null_vals, label='Null Importance', color='tab:blue')\n",
    "        plt.title(f\"Importance of {feature}\")\n",
    "        plt.xlabel(f\"Null Importance Distribution for {feature}\")\n",
    "        plt.vlines(x=acutual_val, ymin=0, ymax=np.max(ax[0]), color='red', linewidth=10, label='Real Importance')\n",
    "        plt.legend()\n",
    "        plt.show()"
   ]
  },
  {
   "cell_type": "code",
   "execution_count": 295,
   "metadata": {},
   "outputs": [
    {
     "data": {
      "application/vnd.jupyter.widget-view+json": {
       "model_id": "906449d7352f4abaa0c5d9af276a4e7c",
       "version_major": 2,
       "version_minor": 0
      },
      "text/plain": [
       "HBox(children=(FloatProgress(value=0.0), HTML(value='')))"
      ]
     },
     "metadata": {},
     "output_type": "display_data"
    },
    {
     "name": "stdout",
     "output_type": "stream",
     "text": [
      "\n"
     ]
    }
   ],
   "source": [
    "df = pd.DataFrame(cancer.data, columns=cancer.feature_names)\n",
    "df['target'] = cancer.target\n",
    "\n",
    "features = cancer.feature_names\n",
    "target = 'target'\n",
    "n_run = 100\n",
    "\n",
    "null_imp = Null_Importance(df, features, target, n_run)"
   ]
  },
  {
   "cell_type": "code",
   "execution_count": 296,
   "metadata": {},
   "outputs": [
    {
     "name": "stdout",
     "output_type": "stream",
     "text": [
      "(30, 102)\n"
     ]
    },
    {
     "data": {
      "text/html": [
       "<div>\n",
       "<style scoped>\n",
       "    .dataframe tbody tr th:only-of-type {\n",
       "        vertical-align: middle;\n",
       "    }\n",
       "\n",
       "    .dataframe tbody tr th {\n",
       "        vertical-align: top;\n",
       "    }\n",
       "\n",
       "    .dataframe thead th {\n",
       "        text-align: right;\n",
       "    }\n",
       "</style>\n",
       "<table border=\"1\" class=\"dataframe\">\n",
       "  <thead>\n",
       "    <tr style=\"text-align: right;\">\n",
       "      <th></th>\n",
       "      <th>feature</th>\n",
       "      <th>actual_importance</th>\n",
       "      <th>1_run_importance</th>\n",
       "      <th>2_run_importance</th>\n",
       "      <th>3_run_importance</th>\n",
       "      <th>4_run_importance</th>\n",
       "      <th>5_run_importance</th>\n",
       "      <th>6_run_importance</th>\n",
       "      <th>7_run_importance</th>\n",
       "      <th>8_run_importance</th>\n",
       "      <th>...</th>\n",
       "      <th>91_run_importance</th>\n",
       "      <th>92_run_importance</th>\n",
       "      <th>93_run_importance</th>\n",
       "      <th>94_run_importance</th>\n",
       "      <th>95_run_importance</th>\n",
       "      <th>96_run_importance</th>\n",
       "      <th>97_run_importance</th>\n",
       "      <th>98_run_importance</th>\n",
       "      <th>99_run_importance</th>\n",
       "      <th>100_run_importance</th>\n",
       "    </tr>\n",
       "  </thead>\n",
       "  <tbody>\n",
       "    <tr>\n",
       "      <th>0</th>\n",
       "      <td>mean radius</td>\n",
       "      <td>0.034843</td>\n",
       "      <td>0.024913</td>\n",
       "      <td>0.025026</td>\n",
       "      <td>0.033628</td>\n",
       "      <td>0.028033</td>\n",
       "      <td>0.025470</td>\n",
       "      <td>0.028265</td>\n",
       "      <td>0.026288</td>\n",
       "      <td>0.026985</td>\n",
       "      <td>...</td>\n",
       "      <td>0.028613</td>\n",
       "      <td>0.027093</td>\n",
       "      <td>0.029713</td>\n",
       "      <td>0.026646</td>\n",
       "      <td>0.030123</td>\n",
       "      <td>0.022019</td>\n",
       "      <td>0.025708</td>\n",
       "      <td>0.026242</td>\n",
       "      <td>0.028855</td>\n",
       "      <td>0.026985</td>\n",
       "    </tr>\n",
       "    <tr>\n",
       "      <th>1</th>\n",
       "      <td>mean texture</td>\n",
       "      <td>0.015225</td>\n",
       "      <td>0.038214</td>\n",
       "      <td>0.038785</td>\n",
       "      <td>0.033675</td>\n",
       "      <td>0.034761</td>\n",
       "      <td>0.041894</td>\n",
       "      <td>0.036304</td>\n",
       "      <td>0.039266</td>\n",
       "      <td>0.039356</td>\n",
       "      <td>...</td>\n",
       "      <td>0.041108</td>\n",
       "      <td>0.046828</td>\n",
       "      <td>0.036852</td>\n",
       "      <td>0.032381</td>\n",
       "      <td>0.035659</td>\n",
       "      <td>0.041519</td>\n",
       "      <td>0.040172</td>\n",
       "      <td>0.037292</td>\n",
       "      <td>0.035528</td>\n",
       "      <td>0.032786</td>\n",
       "    </tr>\n",
       "    <tr>\n",
       "      <th>2</th>\n",
       "      <td>mean perimeter</td>\n",
       "      <td>0.067990</td>\n",
       "      <td>0.025735</td>\n",
       "      <td>0.029020</td>\n",
       "      <td>0.028574</td>\n",
       "      <td>0.027571</td>\n",
       "      <td>0.025904</td>\n",
       "      <td>0.027895</td>\n",
       "      <td>0.029863</td>\n",
       "      <td>0.030108</td>\n",
       "      <td>...</td>\n",
       "      <td>0.030313</td>\n",
       "      <td>0.026722</td>\n",
       "      <td>0.026123</td>\n",
       "      <td>0.031221</td>\n",
       "      <td>0.024314</td>\n",
       "      <td>0.025101</td>\n",
       "      <td>0.024551</td>\n",
       "      <td>0.022972</td>\n",
       "      <td>0.026213</td>\n",
       "      <td>0.023377</td>\n",
       "    </tr>\n",
       "    <tr>\n",
       "      <th>3</th>\n",
       "      <td>mean area</td>\n",
       "      <td>0.060462</td>\n",
       "      <td>0.024946</td>\n",
       "      <td>0.027366</td>\n",
       "      <td>0.028787</td>\n",
       "      <td>0.024675</td>\n",
       "      <td>0.028244</td>\n",
       "      <td>0.026308</td>\n",
       "      <td>0.025233</td>\n",
       "      <td>0.027700</td>\n",
       "      <td>...</td>\n",
       "      <td>0.026878</td>\n",
       "      <td>0.025709</td>\n",
       "      <td>0.025650</td>\n",
       "      <td>0.025252</td>\n",
       "      <td>0.025456</td>\n",
       "      <td>0.024888</td>\n",
       "      <td>0.024072</td>\n",
       "      <td>0.026760</td>\n",
       "      <td>0.022645</td>\n",
       "      <td>0.025957</td>\n",
       "    </tr>\n",
       "    <tr>\n",
       "      <th>4</th>\n",
       "      <td>mean smoothness</td>\n",
       "      <td>0.007958</td>\n",
       "      <td>0.034353</td>\n",
       "      <td>0.037770</td>\n",
       "      <td>0.028941</td>\n",
       "      <td>0.027148</td>\n",
       "      <td>0.033318</td>\n",
       "      <td>0.034041</td>\n",
       "      <td>0.037147</td>\n",
       "      <td>0.039427</td>\n",
       "      <td>...</td>\n",
       "      <td>0.031737</td>\n",
       "      <td>0.034071</td>\n",
       "      <td>0.035657</td>\n",
       "      <td>0.031682</td>\n",
       "      <td>0.040779</td>\n",
       "      <td>0.031322</td>\n",
       "      <td>0.038174</td>\n",
       "      <td>0.034970</td>\n",
       "      <td>0.031399</td>\n",
       "      <td>0.036025</td>\n",
       "    </tr>\n",
       "  </tbody>\n",
       "</table>\n",
       "<p>5 rows × 102 columns</p>\n",
       "</div>"
      ],
      "text/plain": [
       "           feature  actual_importance  1_run_importance  2_run_importance  \\\n",
       "0      mean radius           0.034843          0.024913          0.025026   \n",
       "1     mean texture           0.015225          0.038214          0.038785   \n",
       "2   mean perimeter           0.067990          0.025735          0.029020   \n",
       "3        mean area           0.060462          0.024946          0.027366   \n",
       "4  mean smoothness           0.007958          0.034353          0.037770   \n",
       "\n",
       "   3_run_importance  4_run_importance  5_run_importance  6_run_importance  \\\n",
       "0          0.033628          0.028033          0.025470          0.028265   \n",
       "1          0.033675          0.034761          0.041894          0.036304   \n",
       "2          0.028574          0.027571          0.025904          0.027895   \n",
       "3          0.028787          0.024675          0.028244          0.026308   \n",
       "4          0.028941          0.027148          0.033318          0.034041   \n",
       "\n",
       "   7_run_importance  8_run_importance  ...  91_run_importance  \\\n",
       "0          0.026288          0.026985  ...           0.028613   \n",
       "1          0.039266          0.039356  ...           0.041108   \n",
       "2          0.029863          0.030108  ...           0.030313   \n",
       "3          0.025233          0.027700  ...           0.026878   \n",
       "4          0.037147          0.039427  ...           0.031737   \n",
       "\n",
       "   92_run_importance  93_run_importance  94_run_importance  95_run_importance  \\\n",
       "0           0.027093           0.029713           0.026646           0.030123   \n",
       "1           0.046828           0.036852           0.032381           0.035659   \n",
       "2           0.026722           0.026123           0.031221           0.024314   \n",
       "3           0.025709           0.025650           0.025252           0.025456   \n",
       "4           0.034071           0.035657           0.031682           0.040779   \n",
       "\n",
       "   96_run_importance  97_run_importance  98_run_importance  99_run_importance  \\\n",
       "0           0.022019           0.025708           0.026242           0.028855   \n",
       "1           0.041519           0.040172           0.037292           0.035528   \n",
       "2           0.025101           0.024551           0.022972           0.026213   \n",
       "3           0.024888           0.024072           0.026760           0.022645   \n",
       "4           0.031322           0.038174           0.034970           0.031399   \n",
       "\n",
       "   100_run_importance  \n",
       "0            0.026985  \n",
       "1            0.032786  \n",
       "2            0.023377  \n",
       "3            0.025957  \n",
       "4            0.036025  \n",
       "\n",
       "[5 rows x 102 columns]"
      ]
     },
     "execution_count": 296,
     "metadata": {},
     "output_type": "execute_result"
    }
   ],
   "source": [
    "# 取得したDataFrame\n",
    "print(null_imp.importance_df.shape)\n",
    "null_imp.importance_df.head()"
   ]
  },
  {
   "cell_type": "code",
   "execution_count": 297,
   "metadata": {},
   "outputs": [
    {
     "data": {
      "image/png": "[encoded data removed]",
      "text/plain": [
       "<Figure size 504x720 with 1 Axes>"
      ]
     },
     "metadata": {
      "needs_background": "light"
     },
     "output_type": "display_data"
    }
   ],
   "source": [
    "# 特徴量重要度の可視化\n",
    "null_imp.display_importance(figsize=(7, 10))"
   ]
  },
  {
   "cell_type": "code",
   "execution_count": 298,
   "metadata": {},
   "outputs": [
    {
     "data": {
      "image/png": "[encoded data removed]",
      "text/plain": [
       "<Figure size 432x288 with 1 Axes>"
      ]
     },
     "metadata": {
      "needs_background": "light"
     },
     "output_type": "display_data"
    },
    {
     "data": {
      "image/png": "[encoded data removed]",
      "text/plain": [
       "<Figure size 432x288 with 1 Axes>"
      ]
     },
     "metadata": {
      "needs_background": "light"
     },
     "output_type": "display_data"
    },
    {
     "data": {
      "image/png": "[encoded data removed]",
      "text/plain": [
       "<Figure size 432x288 with 1 Axes>"
      ]
     },
     "metadata": {
      "needs_background": "light"
     },
     "output_type": "display_data"
    },
    {
     "data": {
      "image/png": "[encoded data removed]",
      "text/plain": [
       "<Figure size 432x288 with 1 Axes>"
      ]
     },
     "metadata": {
      "needs_background": "light"
     },
     "output_type": "display_data"
    },
    {
     "data": {
      "image/png": "[encoded data removed]",
      "text/plain": [
       "<Figure size 432x288 with 1 Axes>"
      ]
     },
     "metadata": {
      "needs_background": "light"
     },
     "output_type": "display_data"
    }
   ],
   "source": [
    "# null importanceの結果を特定のfeatureごとに可視化\n",
    "# feature = 'mean radius'\n",
    "for f in features[:5]:\n",
    "    null_imp.display_distributions(f)"
   ]
  },
  {
   "cell_type": "code",
   "execution_count": 311,
   "metadata": {},
   "outputs": [
    {
     "name": "stdout",
     "output_type": "stream",
     "text": [
      "num of drop columns is 20\n"
     ]
    },
    {
     "data": {
      "text/plain": [
       "['mean texture',\n",
       " 'mean smoothness',\n",
       " 'mean compactness',\n",
       " 'mean symmetry',\n",
       " 'mean fractal dimension',\n",
       " 'radius error',\n",
       " 'texture error',\n",
       " 'perimeter error',\n",
       " 'area error',\n",
       " 'smoothness error',\n",
       " 'compactness error',\n",
       " 'concavity error',\n",
       " 'concave points error',\n",
       " 'symmetry error',\n",
       " 'fractal dimension error',\n",
       " 'worst texture',\n",
       " 'worst smoothness',\n",
       " 'worst compactness',\n",
       " 'worst symmetry',\n",
       " 'worst fractal dimension']"
      ]
     },
     "execution_count": 311,
     "metadata": {},
     "output_type": "execute_result"
    }
   ],
   "source": [
    "drop_cols = null_imp.get_unimportance_features(threshold=50)\n",
    "print(f'num of drop columns is {len(drop_cols)}')\n",
    "drop_cols"
   ]
  },
  {
   "cell_type": "code",
   "execution_count": 312,
   "metadata": {},
   "outputs": [
    {
     "name": "stdout",
     "output_type": "stream",
     "text": [
      "Cross-validation scores: 0.9402732494954199\n"
     ]
    }
   ],
   "source": [
    "X = df.drop(drop_cols+['target'], axis=1)\n",
    "y = df['target']\n",
    "\n",
    "cv = StratifiedKFold(n_splits=5, shuffle=True)\n",
    "model = RandomForestClassifier()\n",
    "cv_scores = cross_val_score(model, X, y, cv=cv)\n",
    "\n",
    "print(f'Cross-validation scores: {np.mean(cv_scores)}')"
   ]
  }
 ],
 "metadata": {
  "kernelspec": {
   "display_name": "Python 3",
   "language": "python",
   "name": "python3"
  },
  "language_info": {
   "codemirror_mode": {
    "name": "ipython",
    "version": 3
   },
   "file_extension": ".py",
   "mimetype": "text/x-python",
   "name": "python",
   "nbconvert_exporter": "python",
   "pygments_lexer": "ipython3",
   "version": "3.8.0"
  }
 },
 "nbformat": 4,
 "nbformat_minor": 4
}
